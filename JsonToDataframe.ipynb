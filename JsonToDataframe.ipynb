{
 "cells": [
  {
   "cell_type": "code",
   "execution_count": 7,
   "metadata": {},
   "outputs": [],
   "source": [
    "import pandas as pd\n",
    "import numpy as np\n",
    "import os"
   ]
  },
  {
   "cell_type": "code",
   "execution_count": 73,
   "metadata": {},
   "outputs": [],
   "source": [
    "coordinates_file_path1 = \"D:\\Documents\\M1\\Projet\\WindowsPortableOpenPose\\openpose\\output\\ex1\\coach\\ex1_000000000005_keypoints.json\"\n",
    "coordinates_file_path2 = \"D:\\Documents\\M1\\Projet\\WindowsPortableOpenPose\\openpose\\output\\ex1\\senior\\ex1_senior_000000000005_keypoints.json\""
   ]
  },
  {
   "cell_type": "code",
   "execution_count": 74,
   "metadata": {},
   "outputs": [],
   "source": [
    "coordinates_data1 = pd.read_json(coordinates_file_path1)\n",
    "coordinates_data2 = pd.read_json(coordinates_file_path2)"
   ]
  },
  {
   "cell_type": "code",
   "execution_count": 75,
   "metadata": {},
   "outputs": [
    {
     "name": "stdout",
     "output_type": "stream",
     "text": [
      "   version                                             people\n",
      "0      1.3  {'person_id': [-1], 'pose_keypoints_2d': [801....\n",
      "   version                                             people\n",
      "0      1.3  {'person_id': [-1], 'pose_keypoints_2d': [836....\n"
     ]
    }
   ],
   "source": [
    "print(coordinates_data1)\n",
    "print(coordinates_data2)"
   ]
  },
  {
   "cell_type": "code",
   "execution_count": 76,
   "metadata": {
    "scrolled": true
   },
   "outputs": [],
   "source": [
    "df1 = pd.json_normalize(data=coordinates_data1[\"people\"], record_path='pose_keypoints_2d')\n",
    "df2 = pd.json_normalize(data=coordinates_data2[\"people\"], record_path='pose_keypoints_2d')"
   ]
  },
  {
   "cell_type": "code",
   "execution_count": 77,
   "metadata": {},
   "outputs": [],
   "source": [
    "#Données pour le coach\n",
    "x1 = df1.iloc[0::3][0]\n",
    "y1 = df1.iloc[1::3][0]\n",
    "trust1 = df1.iloc[2::3][0]\n",
    "xarray1 = np.array(x1)\n",
    "yarray1 = np.array(y1)\n",
    "trustarray1 = np.array(trust1)\n",
    "\n",
    "#Données pour le senior\n",
    "x2 = df2.iloc[0::3][0]\n",
    "y2 = df2.iloc[1::3][0]\n",
    "trust2 = df2.iloc[2::3][0]\n",
    "xarray2 = np.array(x2)\n",
    "yarray2 = np.array(y2)\n",
    "trustarray2 = np.array(trust2)"
   ]
  },
  {
   "cell_type": "code",
   "execution_count": 78,
   "metadata": {},
   "outputs": [],
   "source": [
    "#Affichage des array des coordonnées et du taux de confiance\n",
    "#Pour le coach\n",
    "#print(xarray1)\n",
    "#print(yarray1)\n",
    "#print(trustarray1)\n",
    "#Pour le senior\n",
    "#print(xarray2)\n",
    "#print(yarray2)\n",
    "#print(trustarray2)"
   ]
  },
  {
   "cell_type": "code",
   "execution_count": 79,
   "metadata": {},
   "outputs": [],
   "source": [
    "#On crée notre DataFrame pour le coach\n",
    "df_coach = pd.DataFrame()\n",
    "df_coach['x'] = xarray1\n",
    "df_coach['y'] = yarray1\n",
    "df_coach['trust'] = trustarray1\n",
    "#On crée notre DataFrame pour le senior\n",
    "df_senior = pd.DataFrame()\n",
    "df_senior['x'] = xarray2\n",
    "df_senior['y'] = yarray2\n",
    "df_senior['trust'] = trustarray2"
   ]
  },
  {
   "cell_type": "code",
   "execution_count": 80,
   "metadata": {},
   "outputs": [
    {
     "name": "stdout",
     "output_type": "stream",
     "text": [
      "           x         y     trust\n",
      "0    801.058   250.704  0.850973\n",
      "1    792.199   342.086  0.883813\n",
      "2    715.810   344.831  0.838832\n",
      "3    642.085   415.593  0.750678\n",
      "4    586.175   427.227  0.478352\n",
      "5    877.600   344.859  0.802741\n",
      "6    954.086   409.690  0.841493\n",
      "7   1007.140   418.467  0.580446\n",
      "8    780.507   601.022  0.701507\n",
      "9    724.588   600.996  0.667235\n",
      "10   695.219   809.879  0.821859\n",
      "11   692.097   977.721  0.821746\n",
      "12   833.383   601.020  0.714602\n",
      "13   901.139   765.767  0.731287\n",
      "14   954.012   927.519  0.789639\n",
      "15   786.180   241.735  0.893838\n",
      "16   812.897   238.826  0.896350\n",
      "17   759.764   247.687  0.871225\n",
      "18   836.276   244.800  0.842664\n",
      "19   992.328   974.696  0.619236\n",
      "20  1001.260   957.145  0.658868\n",
      "21   942.383   939.391  0.619856\n",
      "22   680.434  1024.870  0.805049\n",
      "23   665.588  1021.810  0.818314\n",
      "24   698.135   995.330  0.724346\n",
      "           x         y     trust\n",
      "0    836.343   227.108  0.797120\n",
      "1    839.331   318.507  0.850019\n",
      "2    745.190   318.475  0.733786\n",
      "3    645.100   386.004  0.791876\n",
      "4    494.985   415.608  0.781839\n",
      "5    933.501   318.436  0.772933\n",
      "6   1042.460   362.499  0.803177\n",
      "7   1189.550   391.953  0.850986\n",
      "8    815.823   577.335  0.673824\n",
      "9    774.593   574.411  0.613462\n",
      "10   833.547   745.130  0.721550\n",
      "11   883.422   942.307  0.800640\n",
      "12   859.947   580.288  0.650323\n",
      "13   786.264   721.628  0.664997\n",
      "14   665.721   848.120  0.786612\n",
      "15   818.780   206.587  0.742419\n",
      "16   856.891   209.507  0.785877\n",
      "17   792.343   218.194  0.677066\n",
      "18   883.477   221.112  0.835732\n",
      "19   698.059   918.779  0.739248\n",
      "20   703.910   907.010  0.739752\n",
      "21   639.215   851.135  0.714058\n",
      "22   859.844  1004.170  0.771986\n",
      "23   854.070   998.304  0.730081\n",
      "24   904.109   954.012  0.729807\n"
     ]
    }
   ],
   "source": [
    "print(df_coach)\n",
    "print(df_senior)"
   ]
  },
  {
   "cell_type": "code",
   "execution_count": 81,
   "metadata": {},
   "outputs": [
    {
     "data": {
      "text/plain": [
       "Index(['x', 'y', 'trust'], dtype='object')"
      ]
     },
     "execution_count": 81,
     "metadata": {},
     "output_type": "execute_result"
    }
   ],
   "source": [
    "df_coach.columns"
   ]
  },
  {
   "cell_type": "code",
   "execution_count": 8,
   "metadata": {},
   "outputs": [],
   "source": [
    "def normalize (data):\n",
    "    minX = min(data['x'])\n",
    "    minY = min(data['y'])\n",
    "    maxX = max(data['x'])\n",
    "    maxY = max(data['y'])\n",
    "    data.loc[:,['x']] = (data.loc[:,['x']] - minX) /  (maxX - minX)\n",
    "    data.loc[:,['y']] = (data.loc[:,['y']] - minY) /  (maxY - minY)\n",
    "    return data"
   ]
  },
  {
   "cell_type": "code",
   "execution_count": 83,
   "metadata": {},
   "outputs": [
    {
     "name": "stdout",
     "output_type": "stream",
     "text": [
      "           x         y     trust\n",
      "0   0.510453  0.015111  0.850973\n",
      "1   0.489409  0.131367  0.883813\n",
      "2   0.307947  0.134859  0.838832\n",
      "3   0.132814  0.224882  0.750678\n",
      "4   0.000000  0.239683  0.478352\n",
      "5   0.692278  0.134894  0.802741\n",
      "6   0.873971  0.217372  0.841493\n",
      "7   1.000000  0.228538  0.580446\n",
      "8   0.461635  0.460783  0.701507\n",
      "9   0.328799  0.460750  0.667235\n",
      "10  0.259033  0.726490  0.821859\n",
      "11  0.251617  0.940017  0.821746\n",
      "12  0.587241  0.460781  0.714602\n",
      "13  0.748195  0.670371  0.731287\n",
      "14  0.873795  0.876151  0.789639\n",
      "15  0.475111  0.003701  0.893838\n",
      "16  0.538577  0.000000  0.896350\n",
      "17  0.412360  0.011273  0.871225\n",
      "18  0.594114  0.007600  0.842664\n",
      "19  0.964814  0.936169  0.619236\n",
      "20  0.986032  0.913841  0.658868\n",
      "21  0.846170  0.891254  0.619856\n",
      "22  0.223912  1.000000  0.805049\n",
      "23  0.188645  0.996107  0.818314\n",
      "24  0.265960  0.962419  0.724346\n",
      "           x         y     trust\n",
      "0   0.491470  0.025729  0.797120\n",
      "1   0.495772  0.140324  0.850019\n",
      "2   0.360233  0.140284  0.733786\n",
      "3   0.216128  0.224951  0.791876\n",
      "4   0.000000  0.262068  0.781839\n",
      "5   0.631353  0.140235  0.772933\n",
      "6   0.788227  0.195481  0.803177\n",
      "7   1.000000  0.232410  0.850986\n",
      "8   0.461927  0.464839  0.673824\n",
      "9   0.402566  0.461173  0.613462\n",
      "10  0.487445  0.675219  0.721550\n",
      "11  0.559252  0.922437  0.800640\n",
      "12  0.525454  0.468542  0.650323\n",
      "13  0.419369  0.645752  0.664997\n",
      "14  0.245817  0.804346  0.786612\n",
      "15  0.466184  0.000000  0.742419\n",
      "16  0.521054  0.003661  0.785877\n",
      "17  0.428121  0.014553  0.677066\n",
      "18  0.559331  0.018211  0.835732\n",
      "19  0.292376  0.892938  0.739248\n",
      "20  0.300800  0.878182  0.739752\n",
      "21  0.207655  0.808127  0.714058\n",
      "22  0.525306  1.000000  0.771986\n",
      "23  0.516993  0.992645  0.730081\n",
      "24  0.589036  0.937113  0.729807\n"
     ]
    }
   ],
   "source": [
    "normalize(df_coach)\n",
    "normalize(df_senior)\n",
    "print(df_coach)\n",
    "print(df_senior)"
   ]
  },
  {
   "cell_type": "code",
   "execution_count": 84,
   "metadata": {},
   "outputs": [
    {
     "name": "stdout",
     "output_type": "stream",
     "text": [
      "           x         y\n",
      "0   0.018983  0.010618\n",
      "1   0.006363  0.008957\n",
      "2   0.052285  0.005425\n",
      "3   0.083314  0.000069\n",
      "4   0.000000  0.022386\n",
      "5   0.060925  0.005340\n",
      "6   0.085743  0.021891\n",
      "7   0.000000  0.003872\n",
      "8   0.000292  0.004056\n",
      "9   0.073766  0.000423\n",
      "10  0.228411  0.051271\n",
      "11  0.307635  0.017580\n",
      "12  0.061787  0.007761\n",
      "13  0.328826  0.024619\n",
      "14  0.627978  0.071804\n",
      "15  0.008927  0.003701\n",
      "16  0.017523  0.003661\n",
      "17  0.015762  0.003280\n",
      "18  0.034782  0.010611\n",
      "19  0.672438  0.043231\n",
      "20  0.685232  0.035659\n",
      "21  0.638515  0.083128\n",
      "22  0.301394  0.000000\n",
      "23  0.328348  0.003462\n",
      "24  0.323076  0.025307\n"
     ]
    }
   ],
   "source": [
    "#Verifier les différences entre les deux exercices :\n",
    "df_diff = pd.DataFrame()\n",
    "df_diff = abs(df_coach - df_senior)\n",
    "df_diff = df_diff.drop(['trust'], axis=1)\n",
    "print(df_diff)"
   ]
  },
  {
   "cell_type": "code",
   "execution_count": 86,
   "metadata": {},
   "outputs": [
    {
     "name": "stdout",
     "output_type": "stream",
     "text": [
      "5.4304182948169935\n"
     ]
    }
   ],
   "source": [
    "sommeDeTout = df_diff.values.sum()\n",
    "print(sommeDeTout)"
   ]
  },
  {
   "cell_type": "code",
   "execution_count": 23,
   "metadata": {},
   "outputs": [],
   "source": [
    "#mainPath = \"D:\\Documents\\M1\\Projet\\WindowsPortableOpenPose\\openpose\\output\\ex1\"\n",
    "#firstTree = os.listdir(path=mainPath)\n",
    "#coachFolderPath = mainPath + \"/\" + firstTree[0]\n",
    "#coachFolder = os.listdir(path=coachFolderPath)\n",
    "#seniorFolderPath = mainPath + \"/\" + firstTree[1]\n",
    "#seniorFolder = os.listdir(path=seniorFolderPath)\n",
    "#print(seniorFolder)"
   ]
  },
  {
   "cell_type": "code",
   "execution_count": 9,
   "metadata": {},
   "outputs": [
    {
     "name": "stdout",
     "output_type": "stream",
     "text": [
      "['D:\\\\Documents\\\\M1\\\\Projet\\\\WindowsPortableOpenPose\\\\openpose\\\\output\\\\ex1\\\\coach\\\\ex1_000000000000_keypoints.json', 'D:\\\\Documents\\\\M1\\\\Projet\\\\WindowsPortableOpenPose\\\\openpose\\\\output\\\\ex1\\\\coach\\\\ex1_000000000001_keypoints.json', 'D:\\\\Documents\\\\M1\\\\Projet\\\\WindowsPortableOpenPose\\\\openpose\\\\output\\\\ex1\\\\coach\\\\ex1_000000000002_keypoints.json', 'D:\\\\Documents\\\\M1\\\\Projet\\\\WindowsPortableOpenPose\\\\openpose\\\\output\\\\ex1\\\\coach\\\\ex1_000000000003_keypoints.json', 'D:\\\\Documents\\\\M1\\\\Projet\\\\WindowsPortableOpenPose\\\\openpose\\\\output\\\\ex1\\\\coach\\\\ex1_000000000004_keypoints.json']\n",
      "['D:\\\\Documents\\\\M1\\\\Projet\\\\WindowsPortableOpenPose\\\\openpose\\\\output\\\\ex3\\\\senior\\\\ex3_senior_000000000000_keypoints.json', 'D:\\\\Documents\\\\M1\\\\Projet\\\\WindowsPortableOpenPose\\\\openpose\\\\output\\\\ex3\\\\senior\\\\ex3_senior_000000000001_keypoints.json', 'D:\\\\Documents\\\\M1\\\\Projet\\\\WindowsPortableOpenPose\\\\openpose\\\\output\\\\ex3\\\\senior\\\\ex3_senior_000000000002_keypoints.json', 'D:\\\\Documents\\\\M1\\\\Projet\\\\WindowsPortableOpenPose\\\\openpose\\\\output\\\\ex3\\\\senior\\\\ex3_senior_000000000003_keypoints.json', 'D:\\\\Documents\\\\M1\\\\Projet\\\\WindowsPortableOpenPose\\\\openpose\\\\output\\\\ex3\\\\senior\\\\ex3_senior_000000000004_keypoints.json']\n"
     ]
    }
   ],
   "source": [
    "path = \"D:\\Documents\\M1\\Projet\\WindowsPortableOpenPose\\openpose\\output\\ex1\\coach\"\n",
    "listOfFilesCoach = list()\n",
    "for (dirpath, dirnames, filenames) in os.walk(path):\n",
    "    listOfFilesCoach += [os.path.join(dirpath, file) for file in filenames if file.endswith(\".json\")]\n",
    "print(listOfFilesCoach[0:5])#Exemple des 5 premiers fichiers dans l'ex1 du coach\n",
    "\n",
    "path = \"D:\\Documents\\M1\\Projet\\WindowsPortableOpenPose\\openpose\\output\\ex3\\senior\"\n",
    "listOfFilesSenior = list()\n",
    "for (dirpath, dirnames, filenames) in os.walk(path):\n",
    "    listOfFilesSenior += [os.path.join(dirpath, file) for file in filenames if file.endswith(\".json\")]\n",
    "print(listOfFilesSenior[0:5])#Exemple des 5 premiers fichiers dans l'ex1 du senior"
   ]
  },
  {
   "cell_type": "code",
   "execution_count": 10,
   "metadata": {},
   "outputs": [],
   "source": [
    "sommeDeTout = 0;\n",
    "\n",
    "for x in range(len(listOfFilesCoach)):\n",
    "    coordinates_data1 = pd.read_json(listOfFilesCoach[x])\n",
    "    coordinates_data2 = pd.read_json(listOfFilesSenior[x])\n",
    "    \n",
    "    df1 = pd.json_normalize(data=coordinates_data1[\"people\"], record_path='pose_keypoints_2d')\n",
    "    df2 = pd.json_normalize(data=coordinates_data2[\"people\"], record_path='pose_keypoints_2d')\n",
    "    \n",
    "    #Données pour le coach\n",
    "    x1 = df1.iloc[0::3][0]\n",
    "    y1 = df1.iloc[1::3][0]\n",
    "    trust1 = df1.iloc[2::3][0]\n",
    "    xarray1 = np.array(x1)\n",
    "    yarray1 = np.array(y1)\n",
    "    trustarray1 = np.array(trust1)\n",
    "\n",
    "    #Données pour le senior\n",
    "    x2 = df2.iloc[0::3][0]\n",
    "    y2 = df2.iloc[1::3][0]\n",
    "    trust2 = df2.iloc[2::3][0]\n",
    "    xarray2 = np.array(x2)\n",
    "    yarray2 = np.array(y2)\n",
    "    trustarray2 = np.array(trust2)\n",
    "    \n",
    "    #On crée notre DataFrame pour le coach\n",
    "    df_coach = pd.DataFrame()\n",
    "    df_coach['x'] = xarray1\n",
    "    df_coach['y'] = yarray1\n",
    "    df_coach['trust'] = trustarray1\n",
    "    \n",
    "    #On crée notre DataFrame pour le senior\n",
    "    df_senior = pd.DataFrame()\n",
    "    df_senior['x'] = xarray2\n",
    "    df_senior['y'] = yarray2\n",
    "    df_senior['trust'] = trustarray2\n",
    "    \n",
    "    normalize(df_coach)\n",
    "    normalize(df_senior)\n",
    "    \n",
    "    #Verifier les différences entre les deux exercices :\n",
    "    df_diff = pd.DataFrame()\n",
    "    df_diff = abs(df_coach - df_senior)\n",
    "    df_diff = df_diff.drop(['trust'], axis=1)\n",
    "    \n",
    "    sommeDeTout += df_diff.values.sum()\n",
    "    "
   ]
  },
  {
   "cell_type": "code",
   "execution_count": 11,
   "metadata": {},
   "outputs": [
    {
     "name": "stdout",
     "output_type": "stream",
     "text": [
      "12.92605238543687\n"
     ]
    }
   ],
   "source": [
    "print(sommeDeTout/len(listOfFilesCoach))"
   ]
  },
  {
   "cell_type": "code",
   "execution_count": 6,
   "metadata": {},
   "outputs": [],
   "source": [
    "#OpenPoseDemo.exe --video D:\\Documents\\M1\\Projet\\WindowsPortableOpenPose\\openpose\\examples\\media\\ex3_senior.mp4 --write_video D:\\Documents\\M1\\Projet\\WindowsPortableOpenPose\\openpose\\output\\ex3\\senior\\ex3_senior.avi --write_json D:\\Documents\\M1\\Projet\\WindowsPortableOpenPose\\openpose\\output\\ex3\\senior --number_people_max 1"
   ]
  },
  {
   "cell_type": "code",
   "execution_count": null,
   "metadata": {},
   "outputs": [],
   "source": []
  }
 ],
 "metadata": {
  "kernelspec": {
   "display_name": "Python 3",
   "language": "python",
   "name": "python3"
  },
  "language_info": {
   "codemirror_mode": {
    "name": "ipython",
    "version": 3
   },
   "file_extension": ".py",
   "mimetype": "text/x-python",
   "name": "python",
   "nbconvert_exporter": "python",
   "pygments_lexer": "ipython3",
   "version": "3.7.7"
  }
 },
 "nbformat": 4,
 "nbformat_minor": 4
}
